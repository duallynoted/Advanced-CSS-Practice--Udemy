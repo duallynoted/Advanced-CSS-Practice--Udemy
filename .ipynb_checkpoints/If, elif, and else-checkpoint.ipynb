{
 "cells": [
  {
   "cell_type": "markdown",
   "metadata": {},
   "source": [
    "if\n",
    "elif\n",
    "else\n",
    "\n",
    "Control flow syntax makes use of colons and indentations (whitespace)\n",
    "This indentation system is crucial to Python and is what sets it apat from other programming languages"
   ]
  },
  {
   "cell_type": "markdown",
   "metadata": {},
   "source": [
    "if some_condition:\n",
    "   #executes some code (this line is indented, so everything in this line will be executed)\n",
    "The above is saying that the if statement will execute some code if that condition is met.\n",
    "ex: if dog is hungry\n",
    "       #feed the dog\n",
    "\n",
    "elif some_other_condition:\n",
    "    #do something different\n",
    "\n",
    "else:\n",
    "    #do something else\n",
    "This does not need a condition to execute the code\n"
   ]
  },
  {
   "cell_type": "code",
   "execution_count": 8,
   "metadata": {},
   "outputs": [
    {
     "name": "stdout",
     "output_type": "stream",
     "text": [
      "I'm not hungry\n"
     ]
    }
   ],
   "source": [
    "hungry=False\n",
    "if hungry:\n",
    "    print('FEED ME!')\n",
    "else:\n",
    "    print(\"I'm not hungry\")"
   ]
  },
  {
   "cell_type": "code",
   "execution_count": 14,
   "metadata": {},
   "outputs": [
    {
     "name": "stdout",
     "output_type": "stream",
     "text": [
      "Welcome to the store!\n"
     ]
    }
   ],
   "source": [
    "loc='Store'\n",
    "if loc=='Auto Shop':\n",
    "    print(\"Cars are cool.\")\n",
    "elif loc=='Bank':\n",
    "    print(\"Money is cool.\")\n",
    "elif loc==\"Store\":\n",
    "    print(\"Welcome to the store!\")\n",
    "else:\n",
    "    print(\"I don't know much.\")"
   ]
  },
  {
   "cell_type": "code",
   "execution_count": 17,
   "metadata": {},
   "outputs": [
    {
     "name": "stdout",
     "output_type": "stream",
     "text": [
      "What is your name?\n"
     ]
    }
   ],
   "source": [
    "name=\"?\"\n",
    "if name==\"Frankie\":\n",
    "    print(\"Hello Frankie\")\n",
    "elif name==\"Sammy\":\n",
    "    print(\"Hello Sammy\")\n",
    "else:\n",
    "    print(\"What is your name?\")\n"
   ]
  },
  {
   "cell_type": "code",
   "execution_count": 22,
   "metadata": {},
   "outputs": [
    {
     "name": "stdout",
     "output_type": "stream",
     "text": [
      "Who are you?\n"
     ]
    }
   ],
   "source": [
    "name=\"Mustafa\"\n",
    "\n",
    "if name==\"Emmett\":\n",
    "    print(\"Hi, Emmett!\")\n",
    "elif name==\"Erin\":\n",
    "    print(\"Hi, Erin!\")\n",
    "elif name==\"Milo\":\n",
    "    print(\"Hi, Milo!\")\n",
    "else:\n",
    "    print(\"Who are you?\")\n",
    "    "
   ]
  },
  {
   "cell_type": "code",
   "execution_count": null,
   "metadata": {},
   "outputs": [],
   "source": []
  }
 ],
 "metadata": {
  "kernelspec": {
   "display_name": "Python 3",
   "language": "python",
   "name": "python3"
  },
  "language_info": {
   "codemirror_mode": {
    "name": "ipython",
    "version": 3
   },
   "file_extension": ".py",
   "mimetype": "text/x-python",
   "name": "python",
   "nbconvert_exporter": "python",
   "pygments_lexer": "ipython3",
   "version": "3.6.5"
  }
 },
 "nbformat": 4,
 "nbformat_minor": 2
}
