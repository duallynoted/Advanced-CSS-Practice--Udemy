{
 "cells": [
  {
   "cell_type": "code",
   "execution_count": 9,
   "metadata": {},
   "outputs": [
    {
     "name": "stdout",
     "output_type": "stream",
     "text": [
      "Looks like you don't know what you want.\n"
     ]
    }
   ],
   "source": [
    "loc=\"sales\"\n",
    "if loc==\"Auto Shop\":\n",
    "    print(\"Welcome to the Auto Shop!\")\n",
    "elif loc==\"Finance Department\":\n",
    "    print(\"How can we help you spend your money?\")\n",
    "elif loc==\"Sales\":\n",
    "    print(\"Let's put you in your dream car.\")\n",
    "else:\n",
    "    print(\"Looks like you don't know what you want.\")\n",
    "\n"
   ]
  },
  {
   "cell_type": "code",
   "execution_count": 24,
   "metadata": {},
   "outputs": [],
   "source": [
    "d={\"k1\":\"apples\", \"k2\":[1,2,3],\"k3\":[\"grab\",\"this\",\"please\"]}"
   ]
  },
  {
   "cell_type": "code",
   "execution_count": 11,
   "metadata": {},
   "outputs": [
    {
     "data": {
      "text/plain": [
       "{'k1': 'apples', 'k2': [1, 2, 3], 'k3': ['grab', 'this', 'please']}"
      ]
     },
     "execution_count": 11,
     "metadata": {},
     "output_type": "execute_result"
    }
   ],
   "source": [
    "d"
   ]
  },
  {
   "cell_type": "code",
   "execution_count": 12,
   "metadata": {},
   "outputs": [
    {
     "data": {
      "text/plain": [
       "3"
      ]
     },
     "execution_count": 12,
     "metadata": {},
     "output_type": "execute_result"
    }
   ],
   "source": [
    "d[\"k2\"][2]"
   ]
  },
  {
   "cell_type": "code",
   "execution_count": 13,
   "metadata": {},
   "outputs": [
    {
     "data": {
      "text/plain": [
       "'please'"
      ]
     },
     "execution_count": 13,
     "metadata": {},
     "output_type": "execute_result"
    }
   ],
   "source": [
    "d[\"k3\"][2]"
   ]
  },
  {
   "cell_type": "code",
   "execution_count": 28,
   "metadata": {},
   "outputs": [
    {
     "name": "stdout",
     "output_type": "stream",
     "text": [
      "Ah, looking for quality acoustics, I see.\n"
     ]
    }
   ],
   "source": [
    "guitar=\"Martin\"\n",
    "if guitar==\"Martin\":\n",
    "    print(\"Ah, looking for quality acoustics, I see.\")\n",
    "elif guitar==\"Les Paul\":\n",
    "    print(\"Nothing like a good electric.\")\n",
    "elif guitar==\"Drums\":\n",
    "    print(\"Uhhhh...are you sure you're in the right place?\")\n",
    "else:\n",
    "    print(\"Try going back to the home page.\")"
   ]
  },
  {
   "cell_type": "code",
   "execution_count": 22,
   "metadata": {},
   "outputs": [
    {
     "data": {
      "text/plain": [
       "{'k1': 'apples', 'k2': [1, 2, 3], 'k3': ['grab', 'this', 'please']}"
      ]
     },
     "execution_count": 22,
     "metadata": {},
     "output_type": "execute_result"
    }
   ],
   "source": [
    "d"
   ]
  },
  {
   "cell_type": "code",
   "execution_count": 29,
   "metadata": {},
   "outputs": [
    {
     "data": {
      "text/plain": [
       "'grab'"
      ]
     },
     "execution_count": 29,
     "metadata": {},
     "output_type": "execute_result"
    }
   ],
   "source": [
    "d[\"k3\"][0]"
   ]
  },
  {
   "cell_type": "code",
   "execution_count": null,
   "metadata": {},
   "outputs": [],
   "source": []
  }
 ],
 "metadata": {
  "kernelspec": {
   "display_name": "Python 3",
   "language": "python",
   "name": "python3"
  },
  "language_info": {
   "codemirror_mode": {
    "name": "ipython",
    "version": 3
   },
   "file_extension": ".py",
   "mimetype": "text/x-python",
   "name": "python",
   "nbconvert_exporter": "python",
   "pygments_lexer": "ipython3",
   "version": "3.6.5"
  }
 },
 "nbformat": 4,
 "nbformat_minor": 2
}
